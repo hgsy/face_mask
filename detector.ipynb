{
 "cells": [
  {
   "cell_type": "code",
   "execution_count": 1,
   "metadata": {},
   "outputs": [
    {
     "name": "stdout",
     "output_type": "stream",
     "text": [
      "[[ 26  96 253 253]]\n"
     ]
    }
   ],
   "source": [
    "import cv2\n",
    "import numpy\n",
    "\n",
    "img = cv2.imread('image/face/apple.jpg')\n",
    "ratio = img.shape[0]/img.shape[1]\n",
    "\n",
    "width = 300\n",
    "height = int(width*ratio)\n",
    "\n",
    "img_resized = cv2.resize(img, (width, height))\n",
    "img_resized = cv2.GaussianBlur(img_resized, (3,3), 1)\n",
    "\n",
    "face_detector = cv2.CascadeClassifier('cascade/haarcascade_frontalface_default.xml')\n",
    "face_detections = face_detector.detectMultiScale(img_resized)\n",
    "print(face_detections)\n",
    "\n",
    "mask = cv2.imread('image\\mask\\sunglasses_test2.png', -1)\n",
    "\n",
    "ratio_mask = mask.shape[0]/mask.shape[1]\n",
    "\n",
    "for x, y, w, h in face_detections:\n",
    "    \n",
    "    # cv2.rectangle(img_resized, (x, y), (x + w, y + h), (0, 255, 0), 2)\n",
    "    img2_resized = cv2.resize(mask, (w, int(w*ratio_mask)))\n",
    "\n",
    "    alpha_mask = img2_resized[:, :, 3] / 255.0\n",
    "    alpha_orig = 1.0 - alpha_mask\n",
    "\n",
    "    y += h//3\n",
    "\n",
    "    for c in range(0, 3):\n",
    "        img_resized[y:y+int(w*ratio_mask), x:x+w, c] = (alpha_mask * img2_resized[:, :, c] + alpha_orig * img_resized[y:y+int(w*ratio_mask), x:x+w, c])\n",
    "\n",
    "cv2.imshow('image', img_resized)\n",
    "cv2.waitKey(0)\n",
    "cv2.destroyAllWindows()\n"
   ]
  },
  {
   "cell_type": "code",
   "execution_count": 23,
   "metadata": {
    "ExecuteTime": {
     "end_time": "2024-09-10T05:16:36.107629200Z",
     "start_time": "2024-09-10T05:16:13.210481100Z"
    }
   },
   "outputs": [
    {
     "name": "stdout",
     "output_type": "stream",
     "text": [
      "1\n"
     ]
    }
   ],
   "source": [
    "import cv2\n",
    "import numpy\n",
    "\n",
    "xml = 'cascade/haarcascade_frontalface_default.xml'\n",
    "maskpath = 'image/mask/sunglasses_test2.png'\n",
    "\n",
    "detector = cv2.CascadeClassifier(xml)\n",
    "mask_orig = cv2.imread(maskpath, -1)\n",
    "\n",
    "cap = cv2.VideoCapture(0)\n",
    "\n",
    "mask = mask_orig.copy()\n",
    "\n",
    "if cap.isOpened():\n",
    "\n",
    "    width = cap.get(cv2.CAP_PROP_FRAME_WIDTH)\n",
    "    height = cap.get(cv2.CAP_PROP_FRAME_HEIGHT)\n",
    "    ratio = height/width\n",
    "    ratio_mask = mask.shape[0]/mask.shape[1]\n",
    "\n",
    "    width = 800\n",
    "    height = int(width*ratio)\n",
    "\n",
    "    cap.set(cv2.CAP_PROP_FRAME_WIDTH, width)\n",
    "    cap.set(cv2.CAP_PROP_FRAME_HEIGHT, height)\n",
    "\n",
    "    while True:\n",
    "        ret, frame = cap.read()\n",
    "        \n",
    "        if ret is None:\n",
    "            print('Camera Error.')\n",
    "            break\n",
    "        \n",
    "        mask = mask_orig.copy()\n",
    "        \n",
    "        frame_gaussian = cv2.GaussianBlur(frame, (3,3), 1)\n",
    "        faces = detector.detectMultiScale(frame_gaussian)\n",
    "        \n",
    "        # faces = detector.detectMultiScale(frame)\n",
    "        \n",
    "        if faces is not None:\n",
    "            for x, y, w, h in faces:\n",
    "                \n",
    "                # cv2.rectangle(frame, (x, y), (x + w, y + h), (0, 255, 0), 2)\n",
    "                h2 = int(w*ratio_mask)\n",
    "    \n",
    "                mask = cv2.resize(mask, (w, h2))\n",
    "    \n",
    "                alpha_mask = mask[:, :, 3] / 255.0\n",
    "                alpha_orig = 1.0 - alpha_mask\n",
    "    \n",
    "                y += h//3\n",
    "    \n",
    "                for c in range(0, 3):\n",
    "                    frame[y:y+h2, x:x+w, c] = (alpha_mask * mask[:, :, c] + alpha_orig * frame[y:y+h2, x:x+w, c])\n",
    "                \n",
    "        cv2.imshow('frame', frame)\n",
    "        \n",
    "        if cv2.waitKey(1) & 0xFF == ord('q'):\n",
    "            break\n",
    "\n",
    "cap.release()\n",
    "cv2.destroyAllWindows()   \n"
   ]
  },
  {
   "cell_type": "code",
   "execution_count": null,
   "metadata": {},
   "outputs": [],
   "source": []
  }
 ],
 "metadata": {
  "kernelspec": {
   "display_name": "cv",
   "language": "python",
   "name": "python3"
  },
  "language_info": {
   "codemirror_mode": {
    "name": "ipython",
    "version": 3
   },
   "file_extension": ".py",
   "mimetype": "text/x-python",
   "name": "python",
   "nbconvert_exporter": "python",
   "pygments_lexer": "ipython3",
   "version": "3.7.12"
  }
 },
 "nbformat": 4,
 "nbformat_minor": 2
}
